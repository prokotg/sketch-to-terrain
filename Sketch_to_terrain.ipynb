{
 "cells": [
  {
   "cell_type": "markdown",
   "metadata": {
    "id": "q9iSK74ZPalI"
   },
   "source": [
    "# Sketch_to_terrain - train model\n",
    "\n"
   ]
  },
  {
   "cell_type": "code",
   "execution_count": 1,
   "metadata": {
    "colab": {
     "base_uri": "https://localhost:8080/"
    },
    "id": "9icqentHPh8v",
    "outputId": "bb754782-db3a-474b-d54e-5615436d51dc"
   },
   "outputs": [
    {
     "name": "stdout",
     "output_type": "stream",
     "text": [
      "Drive already mounted at /content/drive; to attempt to forcibly remount, call drive.mount(\"/content/drive\", force_remount=True).\n"
     ]
    }
   ],
   "source": [
    "import os\n",
    "from google.colab import drive\n",
    "drive.mount(\"/content/drive\")"
   ]
  },
  {
   "cell_type": "code",
   "execution_count": 2,
   "metadata": {
    "colab": {
     "base_uri": "https://localhost:8080/"
    },
    "id": "0cgRxpCoTAmU",
    "outputId": "3888b58e-e0aa-4437-ab7c-c586cec21bf9"
   },
   "outputs": [
    {
     "name": "stdout",
     "output_type": "stream",
     "text": [
      "/content/drive/MyDrive/AI_Tech/Semestr1/Sketch_to_terrain_model\n"
     ]
    }
   ],
   "source": [
    "%cd '/content/drive/MyDrive/AI_Tech/Semestr1/Sketch_to_terrain_model'"
   ]
  },
  {
   "cell_type": "code",
   "execution_count": 3,
   "metadata": {
    "colab": {
     "base_uri": "https://localhost:8080/"
    },
    "id": "f-6aICKvTGKH",
    "outputId": "f76cddc9-3e8f-47b9-e7b5-26a0c92a9594"
   },
   "outputs": [
    {
     "name": "stdout",
     "output_type": "stream",
     "text": [
      "outputs\t\t\t      terrain_generator0.h5\n",
      "terrain_discriminator0.h5     terrain_generator1000.h5\n",
      "terrain_discriminator1000.h5  terrain_generator1500.h5\n",
      "terrain_discriminator1500.h5  terrain_generator2000.h5\n",
      "terrain_discriminator2000.h5  terrain_generator2500.h5\n",
      "terrain_discriminator2500.h5  terrain_generator3000.h5\n",
      "terrain_discriminator3000.h5  terrain_generator3500.h5\n",
      "terrain_discriminator3500.h5  terrain_generator4000.h5\n",
      "terrain_discriminator4000.h5  terrain_generator4500.h5\n",
      "terrain_discriminator4500.h5  terrain_generator500.h5\n",
      "terrain_discriminator500.h5   training_data.npz\n"
     ]
    }
   ],
   "source": [
    "!ls"
   ]
  },
  {
   "cell_type": "markdown",
   "metadata": {
    "id": "XnYteSP6QO7q"
   },
   "source": [
    "## Library"
   ]
  },
  {
   "cell_type": "code",
   "execution_count": 4,
   "metadata": {
    "id": "7MfaolbLQS7Y"
   },
   "outputs": [],
   "source": [
    "# from model import *\n",
    "import time\n",
    "import numpy as np\n",
    "import tensorflow as tf\n",
    "from tensorflow.keras.optimizers import Adam, RMSprop\n",
    "import matplotlib.pyplot as plt\n",
    "from tensorflow.keras.models import load_model\n",
    "# from dataset_builder import *\n",
    "from tensorflow_addons.layers import SpectralNormalization\n",
    "\n",
    "from tensorflow.keras.layers import *\n",
    "from tensorflow.keras.models import Model\n",
    "from tensorflow.keras.initializers import RandomNormal\n",
    "import tensorflow.keras.backend as K"
   ]
  },
  {
   "cell_type": "code",
   "execution_count": 2,
   "metadata": {},
   "outputs": [
    {
     "name": "stdout",
     "output_type": "stream",
     "text": [
      "Num GPUs Available:  0\n"
     ]
    }
   ],
   "source": [
    "print(\"Num GPUs Available: \", len(tf.config.list_physical_devices('GPU')))"
   ]
  },
  {
   "cell_type": "code",
   "execution_count": 3,
   "metadata": {},
   "outputs": [],
   "source": [
    "tf.debugging.set_log_device_placement(True)"
   ]
  },
  {
   "cell_type": "code",
   "execution_count": 4,
   "metadata": {},
   "outputs": [
    {
     "data": {
      "text/plain": [
       "[]"
      ]
     },
     "execution_count": 4,
     "metadata": {},
     "output_type": "execute_result"
    }
   ],
   "source": [
    "tf.config.list_physical_devices('GPU')"
   ]
  },
  {
   "cell_type": "code",
   "execution_count": 5,
   "metadata": {},
   "outputs": [
    {
     "name": "stdout",
     "output_type": "stream",
     "text": [
      "[name: \"/device:CPU:0\"\n",
      "device_type: \"CPU\"\n",
      "memory_limit: 268435456\n",
      "locality {\n",
      "}\n",
      "incarnation: 13919438478408031204\n",
      "]\n"
     ]
    }
   ],
   "source": [
    "from tensorflow.python.client import device_lib \n",
    "print(device_lib.list_local_devices())"
   ]
  },
  {
   "cell_type": "code",
   "execution_count": 6,
   "metadata": {},
   "outputs": [
    {
     "name": "stdout",
     "output_type": "stream",
     "text": [
      "WARNING:tensorflow:From <ipython-input-6-17bb7203622b>:1: is_gpu_available (from tensorflow.python.framework.test_util) is deprecated and will be removed in a future version.\n",
      "Instructions for updating:\n",
      "Use `tf.config.list_physical_devices('GPU')` instead.\n"
     ]
    },
    {
     "data": {
      "text/plain": [
       "False"
      ]
     },
     "execution_count": 6,
     "metadata": {},
     "output_type": "execute_result"
    }
   ],
   "source": [
    "tf.test.is_gpu_available()"
   ]
  },
  {
   "cell_type": "code",
   "execution_count": 9,
   "metadata": {},
   "outputs": [
    {
     "data": {
      "text/plain": [
       "'2.4.1'"
      ]
     },
     "execution_count": 9,
     "metadata": {},
     "output_type": "execute_result"
    }
   ],
   "source": [
    "tf.__version__"
   ]
  },
  {
   "cell_type": "markdown",
   "metadata": {
    "id": "qzoWr0PQQSmO"
   },
   "source": [
    "## Code to train model"
   ]
  },
  {
   "cell_type": "code",
   "execution_count": 5,
   "metadata": {
    "id": "WlwDY-tSMvFq"
   },
   "outputs": [],
   "source": [
    "def UNet(shape):\n",
    "    inputs = Input(shape)\n",
    "    conv1 = SpectralNormalization(Conv2D(64, 3, activation='relu', padding='same'))(inputs)\n",
    "    conv1 = SpectralNormalization(Conv2D(64, 3, activation='relu', padding='same'))(conv1)\n",
    "    pool1 = MaxPooling2D(pool_size=(2, 2))(conv1)\n",
    "    conv2 = SpectralNormalization(Conv2D(128, 3, activation='relu', padding='same'))(pool1)\n",
    "    conv2 = SpectralNormalization(Conv2D(128, 3, activation='relu', padding='same'))(conv2)\n",
    "    pool2 = MaxPooling2D(pool_size=(2, 2))(conv2)\n",
    "    conv3 = SpectralNormalization(Conv2D(256, 3, activation='relu', padding='same'))(pool2)\n",
    "    conv3 = SpectralNormalization(Conv2D(256, 3, activation='relu', padding='same'))(conv3)\n",
    "    pool3 = MaxPooling2D(pool_size=(2, 2))(conv3)\n",
    "    conv4 = SpectralNormalization(Conv2D(512, 3, activation='relu', padding='same'))(pool3)\n",
    "    conv4 = SpectralNormalization(Conv2D(512, 3, activation='relu', padding='same'))(conv4)\n",
    "    pool4 = MaxPooling2D(pool_size=(2, 2))(conv4)\n",
    "\n",
    "    conv5 = SpectralNormalization(Conv2D(1024, 3, activation='relu', padding='same'))(pool4)\n",
    "    conv5 = SpectralNormalization(Conv2D(1024, 3, activation='relu', padding='same'))(conv5)\n",
    "    noise = Input((K.int_shape(conv5)[1], K.int_shape(conv5)[2], K.int_shape(conv5)[3]))\n",
    "    conv5 = Concatenate()([conv5, noise])\n",
    "\n",
    "    up6 = Conv2D(\n",
    "        512,\n",
    "        2,\n",
    "        activation='relu',\n",
    "        padding='same')(\n",
    "        UpSampling2D(\n",
    "            size=(\n",
    "                2,\n",
    "                2))(conv5))\n",
    "    merge6 = Concatenate()([conv4, up6])\n",
    "    conv6 = Conv2D(512, 3, activation='relu', padding='same')(merge6)\n",
    "    conv6 = Conv2D(512, 3, activation='relu', padding='same')(conv6)\n",
    "\n",
    "    up7 = Conv2D(\n",
    "        256,\n",
    "        2,\n",
    "        activation='relu',\n",
    "        padding='same')(\n",
    "        UpSampling2D(\n",
    "            size=(\n",
    "                2,\n",
    "                2))(conv6))\n",
    "    merge7 = Concatenate()([conv3, up7])\n",
    "    conv7 = Conv2D(256, 3, activation='relu', padding='same')(merge7)\n",
    "    conv7 = Conv2D(256, 3, activation='relu', padding='same')(conv7)\n",
    "\n",
    "    up8 = Conv2D(\n",
    "        128,\n",
    "        2,\n",
    "        activation='relu',\n",
    "        padding='same')(\n",
    "        UpSampling2D(\n",
    "            size=(\n",
    "                2,\n",
    "                2))(conv7))\n",
    "    merge8 = Concatenate()([conv2, up8])\n",
    "    conv8 = Conv2D(128, 3, activation='relu', padding='same')(merge8)\n",
    "    conv8 = Conv2D(128, 3, activation='relu', padding='same')(conv8)\n",
    "\n",
    "    up9 = Conv2D(\n",
    "        64,\n",
    "        2,\n",
    "        activation='relu',\n",
    "        padding='same')(\n",
    "        UpSampling2D(\n",
    "            size=(\n",
    "                2,\n",
    "                2))(conv8))\n",
    "    up9 = ZeroPadding2D(((0, 1), (0, 1)))(up9)\n",
    "    merge9 = Concatenate()([conv1, up9])\n",
    "    conv9 = Conv2D(64, 3, activation='relu', padding='same')(merge9)\n",
    "    conv9 = Conv2D(64, 3, activation='relu', padding='same')(conv9)\n",
    "    conv9 = Conv2D(32, 3, activation='relu', padding='same')(conv9)\n",
    "    conv10 = Conv2D(1, 1, activation='tanh')(conv9)\n",
    "\n",
    "    model = Model([inputs, noise], conv10)\n",
    "    model.summary()\n",
    "    return model\n",
    "\n",
    "\n",
    "def patch_discriminator(shape):\n",
    "    init = RandomNormal(stddev=0.02)\n",
    "    in_image = Input(shape=shape)\n",
    "    cond_image = Input((225, 225, 4))\n",
    "    conc_img = Concatenate()([in_image, cond_image])\n",
    "    d = SpectralNormalization(Conv2D(64, (4, 4), strides=(2, 2), padding='same',\n",
    "               kernel_initializer=init))(conc_img)\n",
    "    d = LeakyReLU(alpha=0.2)(d)\n",
    "    d = SpectralNormalization(Conv2D(128, (4, 4), strides=(2, 2),\n",
    "               padding='same', kernel_initializer=init))(d)\n",
    "    d = LeakyReLU(alpha=0.2)(d)\n",
    "    d = SpectralNormalization(Conv2D(256, (4, 4), strides=(2, 2),\n",
    "               padding='same', kernel_initializer=init))(d)\n",
    "    d = LeakyReLU(alpha=0.2)(d)\n",
    "    d = SpectralNormalization(Conv2D(512, (4, 4), strides=(2, 2),\n",
    "               padding='same', kernel_initializer=init))(d)\n",
    "    d = LeakyReLU(alpha=0.2)(d)\n",
    "    d = SpectralNormalization(Conv2D(512, (4, 4), padding='same', kernel_initializer=init))(d)\n",
    "    x = LeakyReLU(alpha=0.2)(d)\n",
    "    output = SpectralNormalization(Conv2D(1, (4, 4), padding='same',\n",
    "                    activation='sigmoid', kernel_initializer=init))(d)\n",
    "    model = Model([in_image, cond_image], output)\n",
    "\n",
    "    return model\n",
    "\n",
    "\n",
    "def mount_discriminator_generator(g, d, image_shape):\n",
    "    d.trainable = False\n",
    "    input_gen = Input(shape=image_shape)\n",
    "    input_noise = Input(shape=(14, 14, 1024))\n",
    "    gen_out = g([input_gen, input_noise])\n",
    "    output_d = d([gen_out, input_gen])\n",
    "    model = Model(inputs=[input_gen, input_noise], outputs=[output_d, gen_out])\n",
    "    model.summary()\n",
    "\n",
    "    return model\n",
    "\n",
    "\n",
    "\n",
    "\n",
    "\n",
    "def generate_real_samples(dataset, ground_trud_ds, n_samples, patch_size):\n",
    "    ix = np.random.randint(0, dataset.shape[0], n_samples)\n",
    "    X = dataset[ix]\n",
    "    gt = ground_trud_ds[ix]\n",
    "    y = np.ones((n_samples, patch_size, patch_size, 1))\n",
    "    return X, y, gt\n",
    "\n",
    "\n",
    "def generate_fake_samples(g_model, dataset, patch_size):\n",
    "    w_noise = np.random.normal(0, 1, (dataset.shape[0], 14, 14, 1024))\n",
    "    X = g_model.predict([dataset, w_noise])\n",
    "    y = np.zeros((len(X), patch_size, patch_size, 1))\n",
    "    return X, y\n",
    "\n",
    "\n",
    "def sample_images(generator, source, target, idx):\n",
    "    print(target.shape)\n",
    "    target = np.uint8(target * 127.5 + 127.5)\n",
    "    w_noise = np.random.normal(0, 1, (1, 14, 14, 1024))\n",
    "    predicted = generator.predict([source, w_noise])\n",
    "    im = np.uint8(predicted[0, ...] * 127.5 + 127.5)\n",
    "    im_source = np.uint8(source[0, ...] * 255)\n",
    "    print(im_source.shape)\n",
    "    im_c = np.concatenate((np.squeeze(im, axis=-1), np.squeeze(target, axis=-1),\n",
    "                           im_source[..., 0], im_source[..., 1], im_source[..., 2], im_source[..., 3]), axis=1)\n",
    "    plt.imsave('./outputs/sketch_conversion' + str(idx) + '.png', im_c, cmap='terrain')\n",
    "\n",
    "\n",
    "def test_gan():\n",
    "    terrain_generator = load_model('terrain_generator26500.h5')\n",
    "    data = np.load('training_data.npz')\n",
    "    XTrain = data['x']\n",
    "    YTrain = data['y']\n",
    "    for i in range(200):\n",
    "        source = XTrain[i:i + 1, ...]\n",
    "        target = YTrain[i, ...]\n",
    "        sample_images(terrain_generator, source, target, i)\n",
    "\n",
    "\n",
    "def train_gan():\n",
    "    data = np.load('training_data.npz')\n",
    "    XTrain = data['x']\n",
    "    YTrain = data['y']\n",
    "    input_shape_gen = (XTrain.shape[1], XTrain.shape[2], XTrain.shape[3])\n",
    "    input_shape_disc = (YTrain.shape[1], YTrain.shape[2], YTrain.shape[3])\n",
    "\n",
    "    terrain_generator = UNet(input_shape_gen)\n",
    "    terrain_discriminator = patch_discriminator(input_shape_disc)\n",
    "    optd = Adam(0.0001, 0.5)\n",
    "    terrain_discriminator.compile(loss='binary_crossentropy', optimizer=optd)\n",
    "    composite_model = mount_discriminator_generator(\n",
    "        terrain_generator, terrain_discriminator, input_shape_gen)\n",
    "    composite_model.compile(\n",
    "        loss=[\n",
    "            'binary_crossentropy', 'mae'], loss_weights=[\n",
    "            1, 3], optimizer=optd)\n",
    "\n",
    "    n_epochs, n_batch, = 100, 20\n",
    "    bat_per_epo = int(len(XTrain) / n_batch)\n",
    "    patch_size = 15\n",
    "    n_steps = bat_per_epo * n_epochs\n",
    "    print('Bat_per_epo ',  bat_per_epo, \"; n_steps: \", n_steps)\n",
    "    min_loss = 999\n",
    "    avg_loss = 0\n",
    "    avg_dloss = 0\n",
    "    for i in range(n_steps):\n",
    "        print('n_steps: {}'.format(i)) # MM 19.04 - dodanie kontroli uczenia\n",
    "        start_time = time.time() # MM 25.04 - dodatnie pobiarów czasowych w przeliczeniach step\n",
    "        X_real, labels_real, Y_target = generate_real_samples(XTrain, YTrain, n_batch, patch_size)\n",
    "        Y_target[np.isnan(Y_target)] = 0\n",
    "        X_real[np.isnan(X_real)] = 0\n",
    "\n",
    "        Y_fake, labels_fake = generate_fake_samples(terrain_generator, X_real, patch_size)\n",
    "        w_noise = np.random.normal(0, 1, (n_batch, 14, 14, 1024))\n",
    "        losses_composite = composite_model.train_on_batch(\n",
    "            [X_real, w_noise], [labels_real, Y_target])\n",
    "\n",
    "        loss_discriminator_fake = terrain_discriminator.train_on_batch(\n",
    "            [Y_fake, X_real], labels_fake)\n",
    "        loss_discriminator_real = terrain_discriminator.train_on_batch(\n",
    "            [Y_target, X_real], labels_real)\n",
    "        d_loss = (loss_discriminator_fake + loss_discriminator_real) / 2\n",
    "        avg_dloss = avg_dloss + (d_loss - avg_dloss) / (i + 1)\n",
    "        avg_loss = avg_loss + (losses_composite[0] - avg_loss) / (i + 1)\n",
    "        end_time = time.time() # MM 25.04 - dodatnie pobiarów czasowych w przeliczeniach step\n",
    "        print('total loss:' + str(avg_loss) + ' d_loss:' + str(avg_dloss) + ' time_calculate_step:'+str(end_time - start_time))\n",
    "\n",
    "        if i % 100 == 0:\n",
    "            sample_images(terrain_generator, X_real[0:1, ...], Y_target[0, ...], i)\n",
    "        if i % 500 == 0:\n",
    "            terrain_discriminator.save('terrain_discriminator' + str(i) + '.h5', True)\n",
    "            terrain_generator.save('terrain_generator' + str(i) + '.h5', True)\n",
    "\n",
    "\n",
    "\n"
   ]
  },
  {
   "cell_type": "code",
   "execution_count": null,
   "metadata": {
    "colab": {
     "base_uri": "https://localhost:8080/",
     "height": 212
    },
    "id": "GOeIOK6qOQKr",
    "outputId": "99037f26-4cbd-4632-8127-ce455dd4c31d"
   },
   "outputs": [
    {
     "name": "stdout",
     "output_type": "stream",
     "text": [
      "Model: \"model\"\n",
      "__________________________________________________________________________________________________\n",
      "Layer (type)                    Output Shape         Param #     Connected to                     \n",
      "==================================================================================================\n",
      "input_1 (InputLayer)            [(None, 225, 225, 4) 0                                            \n",
      "__________________________________________________________________________________________________\n",
      "spectral_normalization (Spectra (None, 225, 225, 64) 2432        input_1[0][0]                    \n",
      "__________________________________________________________________________________________________\n",
      "spectral_normalization_1 (Spect (None, 225, 225, 64) 36992       spectral_normalization[0][0]     \n",
      "__________________________________________________________________________________________________\n",
      "max_pooling2d (MaxPooling2D)    (None, 112, 112, 64) 0           spectral_normalization_1[0][0]   \n",
      "__________________________________________________________________________________________________\n",
      "spectral_normalization_2 (Spect (None, 112, 112, 128 73984       max_pooling2d[0][0]              \n",
      "__________________________________________________________________________________________________\n",
      "spectral_normalization_3 (Spect (None, 112, 112, 128 147712      spectral_normalization_2[0][0]   \n",
      "__________________________________________________________________________________________________\n",
      "max_pooling2d_1 (MaxPooling2D)  (None, 56, 56, 128)  0           spectral_normalization_3[0][0]   \n",
      "__________________________________________________________________________________________________\n",
      "spectral_normalization_4 (Spect (None, 56, 56, 256)  295424      max_pooling2d_1[0][0]            \n",
      "__________________________________________________________________________________________________\n",
      "spectral_normalization_5 (Spect (None, 56, 56, 256)  590336      spectral_normalization_4[0][0]   \n",
      "__________________________________________________________________________________________________\n",
      "max_pooling2d_2 (MaxPooling2D)  (None, 28, 28, 256)  0           spectral_normalization_5[0][0]   \n",
      "__________________________________________________________________________________________________\n",
      "spectral_normalization_6 (Spect (None, 28, 28, 512)  1180672     max_pooling2d_2[0][0]            \n",
      "__________________________________________________________________________________________________\n",
      "spectral_normalization_7 (Spect (None, 28, 28, 512)  2360320     spectral_normalization_6[0][0]   \n",
      "__________________________________________________________________________________________________\n",
      "max_pooling2d_3 (MaxPooling2D)  (None, 14, 14, 512)  0           spectral_normalization_7[0][0]   \n",
      "__________________________________________________________________________________________________\n",
      "spectral_normalization_8 (Spect (None, 14, 14, 1024) 4720640     max_pooling2d_3[0][0]            \n",
      "__________________________________________________________________________________________________\n",
      "spectral_normalization_9 (Spect (None, 14, 14, 1024) 9439232     spectral_normalization_8[0][0]   \n",
      "__________________________________________________________________________________________________\n",
      "input_2 (InputLayer)            [(None, 14, 14, 1024 0                                            \n",
      "__________________________________________________________________________________________________\n",
      "concatenate (Concatenate)       (None, 14, 14, 2048) 0           spectral_normalization_9[0][0]   \n",
      "                                                                 input_2[0][0]                    \n",
      "__________________________________________________________________________________________________\n",
      "up_sampling2d (UpSampling2D)    (None, 28, 28, 2048) 0           concatenate[0][0]                \n",
      "__________________________________________________________________________________________________\n",
      "conv2d_10 (Conv2D)              (None, 28, 28, 512)  4194816     up_sampling2d[0][0]              \n",
      "__________________________________________________________________________________________________\n",
      "concatenate_1 (Concatenate)     (None, 28, 28, 1024) 0           spectral_normalization_7[0][0]   \n",
      "                                                                 conv2d_10[0][0]                  \n",
      "__________________________________________________________________________________________________\n",
      "conv2d_11 (Conv2D)              (None, 28, 28, 512)  4719104     concatenate_1[0][0]              \n",
      "__________________________________________________________________________________________________\n",
      "conv2d_12 (Conv2D)              (None, 28, 28, 512)  2359808     conv2d_11[0][0]                  \n",
      "__________________________________________________________________________________________________\n",
      "up_sampling2d_1 (UpSampling2D)  (None, 56, 56, 512)  0           conv2d_12[0][0]                  \n",
      "__________________________________________________________________________________________________\n",
      "conv2d_13 (Conv2D)              (None, 56, 56, 256)  524544      up_sampling2d_1[0][0]            \n",
      "__________________________________________________________________________________________________\n",
      "concatenate_2 (Concatenate)     (None, 56, 56, 512)  0           spectral_normalization_5[0][0]   \n",
      "                                                                 conv2d_13[0][0]                  \n",
      "__________________________________________________________________________________________________\n",
      "conv2d_14 (Conv2D)              (None, 56, 56, 256)  1179904     concatenate_2[0][0]              \n",
      "__________________________________________________________________________________________________\n",
      "conv2d_15 (Conv2D)              (None, 56, 56, 256)  590080      conv2d_14[0][0]                  \n",
      "__________________________________________________________________________________________________\n",
      "up_sampling2d_2 (UpSampling2D)  (None, 112, 112, 256 0           conv2d_15[0][0]                  \n",
      "__________________________________________________________________________________________________\n",
      "conv2d_16 (Conv2D)              (None, 112, 112, 128 131200      up_sampling2d_2[0][0]            \n",
      "__________________________________________________________________________________________________\n",
      "concatenate_3 (Concatenate)     (None, 112, 112, 256 0           spectral_normalization_3[0][0]   \n",
      "                                                                 conv2d_16[0][0]                  \n",
      "__________________________________________________________________________________________________\n",
      "conv2d_17 (Conv2D)              (None, 112, 112, 128 295040      concatenate_3[0][0]              \n",
      "__________________________________________________________________________________________________\n",
      "conv2d_18 (Conv2D)              (None, 112, 112, 128 147584      conv2d_17[0][0]                  \n",
      "__________________________________________________________________________________________________\n",
      "up_sampling2d_3 (UpSampling2D)  (None, 224, 224, 128 0           conv2d_18[0][0]                  \n",
      "__________________________________________________________________________________________________\n",
      "conv2d_19 (Conv2D)              (None, 224, 224, 64) 32832       up_sampling2d_3[0][0]            \n",
      "__________________________________________________________________________________________________\n",
      "zero_padding2d (ZeroPadding2D)  (None, 225, 225, 64) 0           conv2d_19[0][0]                  \n",
      "__________________________________________________________________________________________________\n",
      "concatenate_4 (Concatenate)     (None, 225, 225, 128 0           spectral_normalization_1[0][0]   \n",
      "                                                                 zero_padding2d[0][0]             \n",
      "__________________________________________________________________________________________________\n",
      "conv2d_20 (Conv2D)              (None, 225, 225, 64) 73792       concatenate_4[0][0]              \n",
      "__________________________________________________________________________________________________\n",
      "conv2d_21 (Conv2D)              (None, 225, 225, 64) 36928       conv2d_20[0][0]                  \n",
      "__________________________________________________________________________________________________\n",
      "conv2d_22 (Conv2D)              (None, 225, 225, 32) 18464       conv2d_21[0][0]                  \n",
      "__________________________________________________________________________________________________\n",
      "conv2d_23 (Conv2D)              (None, 225, 225, 1)  33          conv2d_22[0][0]                  \n",
      "==================================================================================================\n",
      "Total params: 33,151,873\n",
      "Trainable params: 33,147,905\n",
      "Non-trainable params: 3,968\n",
      "__________________________________________________________________________________________________\n",
      "Model: \"model_2\"\n",
      "__________________________________________________________________________________________________\n",
      "Layer (type)                    Output Shape         Param #     Connected to                     \n",
      "==================================================================================================\n",
      "input_5 (InputLayer)            [(None, 225, 225, 4) 0                                            \n",
      "__________________________________________________________________________________________________\n",
      "input_6 (InputLayer)            [(None, 14, 14, 1024 0                                            \n",
      "__________________________________________________________________________________________________\n",
      "model (Functional)              (None, 225, 225, 1)  33151873    input_5[0][0]                    \n",
      "                                                                 input_6[0][0]                    \n",
      "__________________________________________________________________________________________________\n",
      "model_1 (Functional)            (None, 15, 15, 1)    6963074     model[0][0]                      \n",
      "                                                                 input_5[0][0]                    \n",
      "==================================================================================================\n",
      "Total params: 40,114,947\n",
      "Trainable params: 33,147,905\n",
      "Non-trainable params: 6,967,042\n",
      "__________________________________________________________________________________________________\n",
      "Bat_per_epo  273 ; n_steps:  27300\n",
      "n_steps: 0\n",
      "total loss:1.9448322057724 d_loss:0.7439698576927185 time_calculate_step:50.22145104408264\n",
      "(225, 225, 1)\n",
      "(225, 225, 4)\n",
      "n_steps: 1\n",
      "total loss:2.2038663029670715 d_loss:0.7092468589544296 time_calculate_step:46.434086322784424\n",
      "n_steps: 2\n"
     ]
    }
   ],
   "source": [
    "# extract_patches_from_raster()\n",
    "# compute_sketches()\n",
    "train_gan()\n",
    "# test_gan()"
   ]
  },
  {
   "cell_type": "code",
   "execution_count": null,
   "metadata": {},
   "outputs": [],
   "source": []
  }
 ],
 "metadata": {
  "accelerator": "GPU",
  "colab": {
   "collapsed_sections": [],
   "name": "Sketch_to_terrain.ipynb",
   "provenance": [],
   "toc_visible": true
  },
  "kernelspec": {
   "display_name": "Python 3",
   "language": "python",
   "name": "python3"
  },
  "language_info": {
   "codemirror_mode": {
    "name": "ipython",
    "version": 3
   },
   "file_extension": ".py",
   "mimetype": "text/x-python",
   "name": "python",
   "nbconvert_exporter": "python",
   "pygments_lexer": "ipython3",
   "version": "3.8.8"
  }
 },
 "nbformat": 4,
 "nbformat_minor": 4
}
