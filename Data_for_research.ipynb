{
 "cells": [
  {
   "cell_type": "markdown",
   "id": "d729289c-77d3-40c1-a9c4-a22e66bb4f02",
   "metadata": {},
   "source": [
    "# Data for research"
   ]
  },
  {
   "cell_type": "code",
   "execution_count": null,
   "id": "7deaea1a-7934-40bb-9bdd-f5c1cdaa7a7c",
   "metadata": {},
   "outputs": [],
   "source": [
    "data = np.load('training_data.npz')\n",
    "XTrain = data['x']\n",
    "YTrain = data['y']\n",
    "input_shape_gen = (XTrain.shape[1], XTrain.shape[2], XTrain.shape[3])\n",
    "input_shape_disc = (YTrain.shape[1], YTrain.shape[2], YTrain.shape[3])"
   ]
  }
 ],
 "metadata": {
  "kernelspec": {
   "display_name": "Python 3",
   "language": "python",
   "name": "python3"
  },
  "language_info": {
   "codemirror_mode": {
    "name": "ipython",
    "version": 3
   },
   "file_extension": ".py",
   "mimetype": "text/x-python",
   "name": "python",
   "nbconvert_exporter": "python",
   "pygments_lexer": "ipython3",
   "version": "3.8.8"
  }
 },
 "nbformat": 4,
 "nbformat_minor": 5
}
